{
 "cells": [
  {
   "cell_type": "code",
   "execution_count": 10,
   "metadata": {},
   "outputs": [
    {
     "name": "stdout",
     "output_type": "stream",
     "text": [
      "/\n"
     ]
    }
   ],
   "source": [
    "import os\n",
    "print(os.getcwd())\n"
   ]
  },
  {
   "cell_type": "code",
   "execution_count": 14,
   "metadata": {},
   "outputs": [
    {
     "data": {
      "text/plain": [
       "<Experiment: artifact_location='file:///Users/aminatafall/mlruns/362138514271581840', creation_time=1742571592919, experiment_id='362138514271581840', last_update_time=1742571592919, lifecycle_stage='active', name='LogisticRegression', tags={}>"
      ]
     },
     "execution_count": 14,
     "metadata": {},
     "output_type": "execute_result"
    }
   ],
   "source": [
    "import mlflow\n",
    "mlflow.set_tracking_uri(\"file:/Users/aminatafall/mlruns\")  # Chemin complet\n",
    "mlflow.set_experiment(\"LogisticRegression\")\n",
    "\n"
   ]
  },
  {
   "cell_type": "code",
   "execution_count": 18,
   "metadata": {},
   "outputs": [
    {
     "name": "stdout",
     "output_type": "stream",
     "text": [
      "\n",
      "➡️ Training LogisticRegression avec params: {'C': 1.0, 'solver': 'liblinear'}\n"
     ]
    },
    {
     "name": "stderr",
     "output_type": "stream",
     "text": [
      "\u001b[31m2025/03/21 16:52:13 WARNING mlflow.models.model: Model logged without a signature and input example. Please set `input_example` parameter when logging the model to auto infer the model signature.\u001b[0m\n"
     ]
    },
    {
     "name": "stdout",
     "output_type": "stream",
     "text": [
      "🏃 View run selective-goose-356 at: http://localhost:5001/#/experiments/2/runs/c615e326aab74edd9940dacc545e9158\n",
      "🧪 View experiment at: http://localhost:5001/#/experiments/2\n",
      "\n",
      "➡️ Training LogisticRegression avec params: {'C': 0.1, 'solver': 'liblinear'}\n"
     ]
    },
    {
     "name": "stderr",
     "output_type": "stream",
     "text": [
      "\u001b[31m2025/03/21 16:52:15 WARNING mlflow.models.model: Model logged without a signature and input example. Please set `input_example` parameter when logging the model to auto infer the model signature.\u001b[0m\n"
     ]
    },
    {
     "name": "stdout",
     "output_type": "stream",
     "text": [
      "🏃 View run secretive-calf-417 at: http://localhost:5001/#/experiments/2/runs/0289c4d20ba6480f869f3f90b7d80ebf\n",
      "🧪 View experiment at: http://localhost:5001/#/experiments/2\n",
      "\n",
      "➡️ Training LogisticRegression avec params: {'C': 10.0, 'solver': 'lbfgs', 'max_iter': 1000}\n"
     ]
    },
    {
     "name": "stderr",
     "output_type": "stream",
     "text": [
      "/opt/anaconda3/lib/python3.12/site-packages/sklearn/linear_model/_logistic.py:469: ConvergenceWarning: lbfgs failed to converge (status=1):\n",
      "STOP: TOTAL NO. of ITERATIONS REACHED LIMIT.\n",
      "\n",
      "Increase the number of iterations (max_iter) or scale the data as shown in:\n",
      "    https://scikit-learn.org/stable/modules/preprocessing.html\n",
      "Please also refer to the documentation for alternative solver options:\n",
      "    https://scikit-learn.org/stable/modules/linear_model.html#logistic-regression\n",
      "  n_iter_i = _check_optimize_result(\n",
      "\u001b[31m2025/03/21 16:52:17 WARNING mlflow.models.model: Model logged without a signature and input example. Please set `input_example` parameter when logging the model to auto infer the model signature.\u001b[0m\n"
     ]
    },
    {
     "name": "stdout",
     "output_type": "stream",
     "text": [
      "🏃 View run trusting-shad-164 at: http://localhost:5001/#/experiments/2/runs/26cb5d45ce9648c3b8747f7ae1d18c8c\n",
      "🧪 View experiment at: http://localhost:5001/#/experiments/2\n",
      "✅ Tous les runs sont loggés dans MLflow. Vérifie sur : http://localhost:5001\n"
     ]
    }
   ],
   "source": [
    "import pandas as pd\n",
    "import numpy as np\n",
    "import matplotlib.pyplot as plt\n",
    "import seaborn as sns\n",
    "import os\n",
    "\n",
    "from sklearn.model_selection import train_test_split\n",
    "from sklearn.linear_model import LogisticRegression\n",
    "from sklearn.metrics import accuracy_score, precision_score, recall_score, confusion_matrix\n",
    "\n",
    "import mlflow\n",
    "import mlflow.sklearn\n",
    "\n",
    "# 🔥 Créer un dossier temporaire pour les images (solution au problème)\n",
    "output_dir = \"/tmp/mlflow_outputs\"\n",
    "os.makedirs(output_dir, exist_ok=True)\n",
    "\n",
    "# 1️⃣ Définir l'URI du tracking serveur (ici, local sur port 5001)\n",
    "mlflow.set_tracking_uri(\"http://localhost:5001\")\n",
    "\n",
    "# 2️⃣ Créer un experiment spécifique\n",
    "mlflow.set_experiment(\"LogisticRegression\")\n",
    "\n",
    "# 3️⃣ Charger un jeu de données (par exemple ici dataset fictif pour démo)\n",
    "from sklearn.datasets import load_breast_cancer\n",
    "\n",
    "data = load_breast_cancer()\n",
    "X = pd.DataFrame(data.data, columns=data.feature_names)\n",
    "y = data.target\n",
    "\n",
    "X_train, X_test, y_train, y_test = train_test_split(X, y, test_size=0.3, random_state=42)\n",
    "\n",
    "# 4️⃣ Boucle sur plusieurs runs avec différents paramètres\n",
    "param_grid = [\n",
    "    {\"C\": 1.0, \"solver\": \"liblinear\"},\n",
    "    {\"C\": 0.1, \"solver\": \"liblinear\"},\n",
    "    {\"C\": 10.0, \"solver\": \"lbfgs\", \"max_iter\": 1000},\n",
    "]\n",
    "\n",
    "for params in param_grid:\n",
    "    with mlflow.start_run():\n",
    "        print(f\"\\n➡️ Training LogisticRegression avec params: {params}\")\n",
    "        \n",
    "        # Modèle\n",
    "        model = LogisticRegression(**params)\n",
    "        model.fit(X_train, y_train)\n",
    "        \n",
    "        # Prédiction\n",
    "        y_pred = model.predict(X_test)\n",
    "        \n",
    "        # Métriques\n",
    "        acc = accuracy_score(y_test, y_pred)\n",
    "        precision = precision_score(y_test, y_pred)\n",
    "        recall = recall_score(y_test, y_pred)\n",
    "        \n",
    "        # Log hyperparamètres & métriques\n",
    "        mlflow.log_params(params)\n",
    "        mlflow.log_metric(\"Accuracy\", acc)\n",
    "        mlflow.log_metric(\"Precision\", precision)\n",
    "        mlflow.log_metric(\"Recall\", recall)\n",
    "        \n",
    "        # Log du modèle\n",
    "        mlflow.sklearn.log_model(model, \"model\")\n",
    "        \n",
    "        # Matrice de confusion visuelle\n",
    "        cm = confusion_matrix(y_test, y_pred)\n",
    "        plt.figure(figsize=(5,4))\n",
    "        sns.heatmap(cm, annot=True, fmt='d', cmap='Blues', xticklabels=data.target_names, yticklabels=data.target_names)\n",
    "        plt.xlabel(\"Prédictions\")\n",
    "        plt.ylabel(\"Vraies valeurs\")\n",
    "        plt.title(\"Matrice de confusion\")\n",
    "        plt.tight_layout()\n",
    "        \n",
    "        # 🔥 Sauvegarder l'image dans le dossier temporaire\n",
    "        image_path = os.path.join(output_dir, \"confusion_matrix.png\")\n",
    "        plt.savefig(image_path)\n",
    "        plt.close()\n",
    "        \n",
    "        # Log de la matrice en tant qu'image\n",
    "        mlflow.log_artifact(image_path)\n",
    "        os.remove(image_path)  # Nettoyage après log\n",
    "\n",
    "print(\"✅ Tous les runs sont loggés dans MLflow. Vérifie sur : http://localhost:5001\")\n"
   ]
  }
 ],
 "metadata": {
  "kernelspec": {
   "display_name": "base",
   "language": "python",
   "name": "python3"
  },
  "language_info": {
   "codemirror_mode": {
    "name": "ipython",
    "version": 3
   },
   "file_extension": ".py",
   "mimetype": "text/x-python",
   "name": "python",
   "nbconvert_exporter": "python",
   "pygments_lexer": "ipython3",
   "version": "3.12.4"
  }
 },
 "nbformat": 4,
 "nbformat_minor": 2
}
