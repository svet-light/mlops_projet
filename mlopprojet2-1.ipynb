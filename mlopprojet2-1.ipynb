{
 "cells": [
  {
   "cell_type": "code",
   "execution_count": null,
   "metadata": {},
   "outputs": [
    {
     "name": "stdout",
     "output_type": "stream",
     "text": [
      "/\n"
     ]
    }
   ],
   "source": [
    "import os\n",
    "print(os.getcwd())\n"
   ]
  },
  {
   "cell_type": "code",
   "execution_count": 4,
   "metadata": {},
   "outputs": [
    {
     "data": {
      "text/plain": [
       "<Experiment: artifact_location='file:///Users/aminatafall/mlruns/362138514271581840', creation_time=1742571592919, experiment_id='362138514271581840', last_update_time=1742571592919, lifecycle_stage='active', name='LogisticRegression', tags={}>"
      ]
     },
     "execution_count": 4,
     "metadata": {},
     "output_type": "execute_result"
    }
   ],
   "source": [
    "import mlflow\n",
    "mlflow.set_tracking_uri(\"file:/Users/aminatafall/mlruns\")  # Chemin complet\n",
    "mlflow.set_experiment(\"LogisticRegression\")\n",
    "\n"
   ]
  },
  {
   "cell_type": "code",
   "execution_count": 7,
   "metadata": {},
   "outputs": [
    {
     "name": "stdout",
     "output_type": "stream",
     "text": [
      "\n",
      "➡️ Training LogisticRegression avec params: {'C': 1.0, 'solver': 'liblinear'}\n"
     ]
    },
    {
     "name": "stderr",
     "output_type": "stream",
     "text": [
      "\u001b[31m2025/03/21 21:24:29 WARNING mlflow.models.model: Model logged without a signature and input example. Please set `input_example` parameter when logging the model to auto infer the model signature.\u001b[0m\n"
     ]
    },
    {
     "name": "stdout",
     "output_type": "stream",
     "text": [
      "🏃 View run spiffy-tern-278 at: http://localhost:5001/#/experiments/3/runs/36386d1608714969bc22539b09735e5c\n",
      "🧪 View experiment at: http://localhost:5001/#/experiments/3\n",
      "\n",
      "➡️ Training LogisticRegression avec params: {'C': 0.1, 'solver': 'liblinear'}\n"
     ]
    },
    {
     "name": "stderr",
     "output_type": "stream",
     "text": [
      "\u001b[31m2025/03/21 21:24:31 WARNING mlflow.models.model: Model logged without a signature and input example. Please set `input_example` parameter when logging the model to auto infer the model signature.\u001b[0m\n"
     ]
    },
    {
     "name": "stdout",
     "output_type": "stream",
     "text": [
      "🏃 View run legendary-squid-723 at: http://localhost:5001/#/experiments/3/runs/6f183a91735442af83bd071332dabba9\n",
      "🧪 View experiment at: http://localhost:5001/#/experiments/3\n",
      "\n",
      "➡️ Training LogisticRegression avec params: {'C': 10.0, 'solver': 'lbfgs', 'max_iter': 1000}\n"
     ]
    },
    {
     "name": "stderr",
     "output_type": "stream",
     "text": [
      "\u001b[31m2025/03/21 21:24:34 WARNING mlflow.models.model: Model logged without a signature and input example. Please set `input_example` parameter when logging the model to auto infer the model signature.\u001b[0m\n"
     ]
    },
    {
     "name": "stdout",
     "output_type": "stream",
     "text": [
      "🏃 View run bemused-frog-646 at: http://localhost:5001/#/experiments/3/runs/922e22384d3f45be92fc5b25913cb0ca\n",
      "🧪 View experiment at: http://localhost:5001/#/experiments/3\n",
      "✅ Tous les runs sont loggés dans MLflow. Vérifie sur : http://localhost:5001\n"
     ]
    }
   ],
   "source": [
    "import pandas as pd\n",
    "import numpy as np\n",
    "import matplotlib.pyplot as plt\n",
    "import seaborn as sns\n",
    "import os\n",
    "\n",
    "from sklearn.model_selection import train_test_split\n",
    "from sklearn.linear_model import LogisticRegression\n",
    "from sklearn.metrics import accuracy_score, precision_score, recall_score, confusion_matrix\n",
    "\n",
    "import mlflow\n",
    "import mlflow.sklearn\n",
    "\n",
    "# 🔥 Créer un dossier temporaire pour les images\n",
    "output_dir = \"/tmp/mlflow_outputs\"\n",
    "os.makedirs(output_dir, exist_ok=True)\n",
    "\n",
    "# 1️⃣ Définir l'URI du tracking serveur\n",
    "mlflow.set_tracking_uri(\"http://localhost:5001\")\n",
    "\n",
    "# 2️⃣ Créer un experiment spécifique\n",
    "mlflow.set_experiment(\"LogisticRegression-Loan\")\n",
    "\n",
    "# 3️⃣ Charger ton dataset Loan_Data.csv\n",
    "df = pd.read_csv(\"Loan_Data.csv\")\n",
    "\n",
    "# 4️⃣ Séparer les features (X) et la cible (y)\n",
    "X = df.drop(['customer_id', 'default'], axis=1)  \n",
    "y = df['default']\n",
    "\n",
    "# 5️⃣ Split en train/test\n",
    "X_train, X_test, y_train, y_test = train_test_split(X, y, test_size=0.3, random_state=42)\n",
    "\n",
    "# 6️⃣ Boucle sur plusieurs runs avec différents paramètres\n",
    "param_grid = [\n",
    "    {\"C\": 1.0, \"solver\": \"liblinear\"},\n",
    "    {\"C\": 0.1, \"solver\": \"liblinear\"},\n",
    "    {\"C\": 10.0, \"solver\": \"lbfgs\", \"max_iter\": 1000},\n",
    "]\n",
    "\n",
    "for params in param_grid:\n",
    "    with mlflow.start_run():\n",
    "        print(f\"\\n➡️ Training LogisticRegression avec params: {params}\")\n",
    "        \n",
    "        # Modèle\n",
    "        model = LogisticRegression(**params)\n",
    "        model.fit(X_train, y_train)\n",
    "        \n",
    "        # Prédiction\n",
    "        y_pred = model.predict(X_test)\n",
    "        \n",
    "        # Métriques\n",
    "        acc = accuracy_score(y_test, y_pred)\n",
    "        precision = precision_score(y_test, y_pred)\n",
    "        recall = recall_score(y_test, y_pred)\n",
    "        \n",
    "        # Log hyperparamètres & métriques\n",
    "        mlflow.log_params(params)\n",
    "        mlflow.log_metric(\"Accuracy\", acc)\n",
    "        mlflow.log_metric(\"Precision\", precision)\n",
    "        mlflow.log_metric(\"Recall\", recall)\n",
    "        \n",
    "        # Log du modèle\n",
    "        mlflow.sklearn.log_model(model, \"model\")\n",
    "        \n",
    "        # Matrice de confusion visuelle\n",
    "        cm = confusion_matrix(y_test, y_pred)\n",
    "        plt.figure(figsize=(5,4))\n",
    "        sns.heatmap(cm, annot=True, fmt='d', cmap='Blues')\n",
    "        plt.xlabel(\"Prédictions\")\n",
    "        plt.ylabel(\"Vraies valeurs\")\n",
    "        plt.title(\"Matrice de confusion\")\n",
    "        plt.tight_layout()\n",
    "        \n",
    "        # 🔥 Sauvegarder l'image\n",
    "        image_path = os.path.join(output_dir, \"confusion_matrix.png\")\n",
    "        plt.savefig(image_path)\n",
    "        plt.close()\n",
    "        \n",
    "        # Log dans MLflow\n",
    "        mlflow.log_artifact(image_path)\n",
    "        os.remove(image_path)  # Nettoyage après log\n",
    "\n",
    "print(\"✅ Tous les runs sont loggés dans MLflow. Vérifie sur : http://localhost:5001\")\n"
   ]
  }
 ],
 "metadata": {
  "kernelspec": {
   "display_name": "base",
   "language": "python",
   "name": "python3"
  },
  "language_info": {
   "codemirror_mode": {
    "name": "ipython",
    "version": 3
   },
   "file_extension": ".py",
   "mimetype": "text/x-python",
   "name": "python",
   "nbconvert_exporter": "python",
   "pygments_lexer": "ipython3",
   "version": "3.12.4"
  }
 },
 "nbformat": 4,
 "nbformat_minor": 2
}
